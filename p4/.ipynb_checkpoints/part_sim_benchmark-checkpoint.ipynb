{
 "cells": [
  {
   "cell_type": "code",
   "execution_count": 1,
   "id": "a884f5c3-9926-4bc2-aad8-a811a9a9e769",
   "metadata": {},
   "outputs": [],
   "source": [
    "from part_sim import benchmark"
   ]
  },
  {
   "cell_type": "code",
   "execution_count": 2,
   "id": "f8741b68-084d-4d9f-a466-f205596d5364",
   "metadata": {},
   "outputs": [],
   "source": [
    "import time"
   ]
  },
  {
   "cell_type": "code",
   "execution_count": 3,
   "id": "4c408d48-3cb7-42ed-89f4-802df524c4a6",
   "metadata": {},
   "outputs": [],
   "source": [
    "particle_amounts = [10000, 20000, 30000, 40000, 50000]"
   ]
  },
  {
   "cell_type": "code",
   "execution_count": 4,
   "id": "2ec0b1d0-e77b-4022-8d5a-02b509f9b5b5",
   "metadata": {},
   "outputs": [],
   "source": [
    "python_results = []\n",
    "numpy_results = []"
   ]
  },
  {
   "cell_type": "code",
   "execution_count": 5,
   "id": "8f4d8fee-5a09-4b6e-975f-5df32a80ba6a",
   "metadata": {},
   "outputs": [],
   "source": [
    "for amount in particle_amounts:\n",
    "    start = time.time()\n",
    "    benchmark(amount, \"python\")\n",
    "    end = time.time()\n",
    "    python_results.append(end - start)"
   ]
  },
  {
   "cell_type": "code",
   "execution_count": 6,
   "id": "bb6d2181-d141-41d1-ac64-8185ea492d0f",
   "metadata": {},
   "outputs": [
    {
     "data": {
      "text/plain": [
       "[26.82243275642395,\n",
       " 53.72403383255005,\n",
       " 80.56988954544067,\n",
       " 107.99576497077942,\n",
       " 135.81137418746948]"
      ]
     },
     "execution_count": 6,
     "metadata": {},
     "output_type": "execute_result"
    }
   ],
   "source": [
    "python_results"
   ]
  },
  {
   "cell_type": "code",
   "execution_count": 7,
   "id": "5e3fb4f3-0be8-4fa2-a22d-628832f3ab52",
   "metadata": {},
   "outputs": [],
   "source": [
    "for amount in particle_amounts:\n",
    "    start = time.time()\n",
    "    benchmark(amount, \"numpy\")\n",
    "    end = time.time()\n",
    "    numpy_results.append(end - start)"
   ]
  },
  {
   "cell_type": "code",
   "execution_count": 8,
   "id": "9a7b0de2-66b3-417d-bfdb-a6bd992e64ab",
   "metadata": {},
   "outputs": [
    {
     "data": {
      "text/plain": [
       "[2.374277114868164,\n",
       " 4.564026832580566,\n",
       " 6.741803884506226,\n",
       " 8.857129573822021,\n",
       " 12.51004409790039]"
      ]
     },
     "execution_count": 8,
     "metadata": {},
     "output_type": "execute_result"
    }
   ],
   "source": [
    "numpy_results"
   ]
  },
  {
   "cell_type": "code",
   "execution_count": 9,
   "id": "fdc7e366-4e20-4d05-8c38-bc8d0029d863",
   "metadata": {},
   "outputs": [],
   "source": [
    "import matplotlib.pyplot as plt"
   ]
  },
  {
   "cell_type": "code",
   "execution_count": 10,
   "id": "e5eaf191-0560-4459-a444-34bb3e767532",
   "metadata": {},
   "outputs": [
    {
     "data": {
      "image/png": "[encoded data removed]",
      "text/plain": [
       "<Figure size 640x480 with 1 Axes>"
      ]
     },
     "metadata": {},
     "output_type": "display_data"
    }
   ],
   "source": [
    "plt.plot(particle_amounts, python_results, label = \"Python\", marker = \"o\")\n",
    "plt.plot(particle_amounts, numpy_results, label = \"Numpy\", marker = \"o\")\n",
    "plt.legend()\n",
    "plt.show()"
   ]
  },
  {
   "cell_type": "markdown",
   "id": "1a205b08-2c48-4abc-bf3e-08e68fe0d24a",
   "metadata": {},
   "source": [
    "Distance matrices and numexpr"
   ]
  },
  {
   "cell_type": "code",
   "execution_count": 1,
   "id": "a6f6ce0e-f338-42d1-9dfd-1b45bea89aa5",
   "metadata": {},
   "outputs": [],
   "source": [
    "import numexpr as ne\n",
    "import numpy as np"
   ]
  },
  {
   "cell_type": "code",
   "execution_count": 2,
   "id": "422011c9-baad-413e-b8ce-7d35264b7dd1",
   "metadata": {},
   "outputs": [],
   "source": [
    "def distance_matrix_np(r):\n",
    "    r_i = r[:, np.newaxis]\n",
    "    r_j = r[np.newaxis, :]\n",
    "    d_ij = r_j - r_i\n",
    "    d_ij = np.sqrt((d_ij ** 2).sum(axis=2))"
   ]
  },
  {
   "cell_type": "code",
   "execution_count": 3,
   "id": "46e95ad9-2527-470f-b051-074a9637785b",
   "metadata": {},
   "outputs": [],
   "source": [
    "def distance_matrix_ne(r):\n",
    "    r_i = r[:, np.newaxis]\n",
    "    r_j = r[np.newaxis, :]\n",
    "    d_ij = ne.evaluate('sum((r_j - r_i)**2, 2)')\n",
    "    d_ij = ne.evaluate('sqrt(d_ij)')"
   ]
  },
  {
   "cell_type": "code",
   "execution_count": 4,
   "id": "21086299-fd30-41a2-bd7b-8c42867263b6",
   "metadata": {},
   "outputs": [],
   "source": [
    "rtest = np.random.rand(10000, 2)"
   ]
  },
  {
   "cell_type": "code",
   "execution_count": 5,
   "id": "5cc62e4d-c2ea-4551-94b7-402c571b8952",
   "metadata": {},
   "outputs": [],
   "source": [
    "import timeit"
   ]
  },
  {
   "cell_type": "code",
   "execution_count": null,
   "id": "9e0ff638-0122-461e-900d-0a23f10c2903",
   "metadata": {},
   "outputs": [],
   "source": [
    "%timeit distance_matrix_np(rtest)"
   ]
  },
  {
   "cell_type": "code",
   "execution_count": null,
   "id": "964b959f-2577-49ad-ab36-82903dd939a8",
   "metadata": {},
   "outputs": [],
   "source": []
  }
 ],
 "metadata": {
  "kernelspec": {
   "display_name": "Python 3 (ipykernel)",
   "language": "python",
   "name": "python3"
  },
  "language_info": {
   "codemirror_mode": {
    "name": "ipython",
    "version": 3
   },
   "file_extension": ".py",
   "mimetype": "text/x-python",
   "name": "python",
   "nbconvert_exporter": "python",
   "pygments_lexer": "ipython3",
   "version": "3.11.7"
  }
 },
 "nbformat": 4,
 "nbformat_minor": 5
}
