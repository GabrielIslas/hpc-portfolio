{
 "cells": [
  {
   "cell_type": "code",
   "execution_count": 1,
   "id": "3a2bb7ac-a0ce-4e5a-8d89-5329d7df95f3",
   "metadata": {},
   "outputs": [],
   "source": [
    "import time\n",
    "import gol_py\n",
    "import gol_cy1\n",
    "import gol_cy2\n",
    "import gol_cy3\n",
    "import gol_cy4"
   ]
  },
  {
   "cell_type": "code",
   "execution_count": 2,
   "id": "e7a8b46b-3142-42e0-987b-ea8abb36c7d6",
   "metadata": {},
   "outputs": [],
   "source": [
    "import matplotlib.pyplot as plt"
   ]
  },
  {
   "cell_type": "code",
   "execution_count": 3,
   "id": "d736923b-5535-44ba-97bc-d636c75d1349",
   "metadata": {},
   "outputs": [],
   "source": [
    "algorithms = [\"Python\", \"Cython1\", \"Cython2\", \"Cython3\", \"Cython4\"]"
   ]
  },
  {
   "cell_type": "code",
   "execution_count": 4,
   "id": "63c142eb-6d4a-4706-8f42-e90fe265c676",
   "metadata": {},
   "outputs": [],
   "source": [
    "runtimes = []"
   ]
  },
  {
   "cell_type": "code",
   "execution_count": 5,
   "id": "4a416a03-f232-40b2-a78a-68148c75a0f9",
   "metadata": {},
   "outputs": [],
   "source": [
    "size = 300\n",
    "game_of_life_initial = [[0 for _ in range(size)] for _ in range(size)]\n",
    "\n",
    "for i in range(size):\n",
    "    game_of_life_initial[i][i] = 1  # Primary diagonal\n",
    "    game_of_life_initial[i][size - 1 - i] = 1  # Secondary diagonal"
   ]
  },
  {
   "cell_type": "code",
   "execution_count": 7,
   "id": "6740afa0-4e49-4d77-84bc-5a029cabe826",
   "metadata": {},
   "outputs": [],
   "source": [
    "testlist = game_of_life_initial.copy() "
   ]
  },
  {
   "cell_type": "code",
   "execution_count": 8,
   "id": "1957e556-17c7-41e3-b01c-b6b6523744ed",
   "metadata": {},
   "outputs": [],
   "source": [
    "start = time.time()\n",
    "for _ in range(300):\n",
    "    testlist = gol_py.update(testlist)\n",
    "end = time.time()\n",
    "runtimes.append(end-start)"
   ]
  },
  {
   "cell_type": "code",
   "execution_count": 9,
   "id": "c1eea161-3286-4e47-a9b2-a3b5d3d653d0",
   "metadata": {},
   "outputs": [],
   "source": [
    "testlist = game_of_life_initial.copy() "
   ]
  },
  {
   "cell_type": "code",
   "execution_count": 10,
   "id": "44180dcf-1bd3-4d4d-b124-c3f790997051",
   "metadata": {},
   "outputs": [],
   "source": [
    "start = time.time()\n",
    "for _ in range(300):\n",
    "    testlist = gol_cy1.update(testlist)\n",
    "end = time.time()\n",
    "runtimes.append(end-start)"
   ]
  },
  {
   "cell_type": "code",
   "execution_count": 11,
   "id": "9d1b27c5-62c7-4e40-8a99-34924c802823",
   "metadata": {},
   "outputs": [],
   "source": [
    "testlist = game_of_life_initial.copy()"
   ]
  },
  {
   "cell_type": "code",
   "execution_count": 12,
   "id": "967bb373-a700-4700-957b-200d59f4da3d",
   "metadata": {},
   "outputs": [],
   "source": [
    "start = time.time()\n",
    "for _ in range(300):\n",
    "    testlist = gol_cy2.update(testlist)\n",
    "end = time.time()\n",
    "runtimes.append(end-start)"
   ]
  },
  {
   "cell_type": "code",
   "execution_count": 13,
   "id": "5f9a9ed2-8290-4c7c-9a33-3f0751592b0d",
   "metadata": {},
   "outputs": [],
   "source": [
    "testlist = game_of_life_initial.copy()"
   ]
  },
  {
   "cell_type": "code",
   "execution_count": 14,
   "id": "27ab186c-c3e7-45e5-84de-3416c35d455a",
   "metadata": {},
   "outputs": [],
   "source": [
    "start = time.time()\n",
    "for _ in range(300):\n",
    "    testlist = gol_cy3.update(testlist)\n",
    "end = time.time()\n",
    "runtimes.append(end-start)"
   ]
  },
  {
   "cell_type": "code",
   "execution_count": 15,
   "id": "49795ef8-5e4e-4adc-aa27-77e927644fac",
   "metadata": {},
   "outputs": [],
   "source": [
    "testlist = game_of_life_initial.copy()"
   ]
  },
  {
   "cell_type": "code",
   "execution_count": 16,
   "id": "0d7be0f0-b77d-4cf7-be25-3aaa01a47ccf",
   "metadata": {},
   "outputs": [],
   "source": [
    "start = time.time()\n",
    "for _ in range(300):\n",
    "    testlist = gol_cy4.update(testlist)\n",
    "end = time.time()\n",
    "runtimes.append(end-start)"
   ]
  },
  {
   "cell_type": "code",
   "execution_count": 17,
   "id": "d8b889ae-c72f-4d28-83b1-b79012af1fbe",
   "metadata": {},
   "outputs": [
    {
     "data": {
      "text/plain": [
       "[8.217127561569214,\n",
       " 7.010438919067383,\n",
       " 3.5325448513031006,\n",
       " 3.199496269226074,\n",
       " 3.033442735671997]"
      ]
     },
     "execution_count": 17,
     "metadata": {},
     "output_type": "execute_result"
    }
   ],
   "source": [
    "runtimes"
   ]
  },
  {
   "cell_type": "code",
   "execution_count": null,
   "id": "13c9ff39-920e-48fb-97f7-469e77eb28f4",
   "metadata": {},
   "outputs": [],
   "source": []
  }
 ],
 "metadata": {
  "kernelspec": {
   "display_name": "Python 3 (ipykernel)",
   "language": "python",
   "name": "python3"
  },
  "language_info": {
   "codemirror_mode": {
    "name": "ipython",
    "version": 3
   },
   "file_extension": ".py",
   "mimetype": "text/x-python",
   "name": "python",
   "nbconvert_exporter": "python",
   "pygments_lexer": "ipython3",
   "version": "3.11.7"
  }
 },
 "nbformat": 4,
 "nbformat_minor": 5
}
