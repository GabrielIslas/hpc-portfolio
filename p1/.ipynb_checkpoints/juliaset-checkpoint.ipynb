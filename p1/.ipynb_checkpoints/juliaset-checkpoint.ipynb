{
 "cells": [
  {
   "cell_type": "code",
   "execution_count": 1,
   "id": "a94d9a67-b836-46ac-8cb4-5762005ae711",
   "metadata": {},
   "outputs": [],
   "source": [
    "import juliaset"
   ]
  },
  {
   "cell_type": "code",
   "execution_count": 2,
   "id": "e8e74fd7-0245-4d6e-a49e-2bcfffeee3da",
   "metadata": {},
   "outputs": [],
   "source": [
    "import timeit"
   ]
  },
  {
   "cell_type": "code",
   "execution_count": null,
   "id": "0fb64e25-a34b-48ed-9c3f-7a8e6b939086",
   "metadata": {},
   "outputs": [],
   "source": []
  }
 ],
 "metadata": {
  "kernelspec": {
   "display_name": "Python 3 (ipykernel)",
   "language": "python",
   "name": "python3"
  },
  "language_info": {
   "codemirror_mode": {
    "name": "ipython",
    "version": 3
   },
   "file_extension": ".py",
   "mimetype": "text/x-python",
   "name": "python",
   "nbconvert_exporter": "python",
   "pygments_lexer": "ipython3",
   "version": "3.11.7"
  }
 },
 "nbformat": 4,
 "nbformat_minor": 5
}
