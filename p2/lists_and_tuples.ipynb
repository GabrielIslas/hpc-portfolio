{
 "cells": [
  {
   "cell_type": "code",
   "execution_count": 61,
   "id": "ccf0ea2a-f077-4862-9574-5b87bc8edcb9",
   "metadata": {},
   "outputs": [],
   "source": [
    "import time"
   ]
  },
  {
   "cell_type": "markdown",
   "id": "2389a485-18be-4710-851f-4b94f8f26906",
   "metadata": {},
   "source": [
    "# Lists"
   ]
  },
  {
   "cell_type": "markdown",
   "id": "0cbda3d5-2407-45a1-af14-960873025b65",
   "metadata": {},
   "source": [
    "## pop"
   ]
  },
  {
   "cell_type": "code",
   "execution_count": 62,
   "id": "b1fcca2d-0844-4c8d-a3a9-3b619eadbb79",
   "metadata": {},
   "outputs": [
    {
     "data": {
      "text/plain": [
       "1.9311904907226564e-07"
      ]
     },
     "execution_count": 62,
     "metadata": {},
     "output_type": "execute_result"
    }
   ],
   "source": [
    "sum = 0\n",
    "for _ in range(10000):\n",
    "    test = [1 for _ in range(10000)]\n",
    "    start = time.time()\n",
    "    test.pop()\n",
    "    end = time.time()\n",
    "    sum += end - start\n",
    "sum /= 10000\n",
    "sum"
   ]
  },
  {
   "cell_type": "code",
   "execution_count": 63,
   "id": "7f283d7b-eced-4fbb-bc84-c8fc480ff530",
   "metadata": {},
   "outputs": [
    {
     "data": {
      "text/plain": [
       "1.9617080688476562e-07"
      ]
     },
     "execution_count": 63,
     "metadata": {},
     "output_type": "execute_result"
    }
   ],
   "source": [
    "sum = 0\n",
    "for _ in range(10000):\n",
    "    test = [1 for _ in range(20000)]\n",
    "    start = time.time()\n",
    "    test.pop()\n",
    "    end = time.time()\n",
    "    sum += end - start\n",
    "sum /= 10000\n",
    "sum"
   ]
  },
  {
   "cell_type": "code",
   "execution_count": 64,
   "id": "278249e9-8030-4c26-adf5-2fa197ba521f",
   "metadata": {},
   "outputs": [
    {
     "data": {
      "text/plain": [
       "1.7092227935791015e-07"
      ]
     },
     "execution_count": 64,
     "metadata": {},
     "output_type": "execute_result"
    }
   ],
   "source": [
    "sum = 0\n",
    "for _ in range(10000):\n",
    "    test = [1 for _ in range(30000)]\n",
    "    start = time.time()\n",
    "    test.pop()\n",
    "    end = time.time()\n",
    "    sum += end - start\n",
    "sum /= 10000\n",
    "sum"
   ]
  },
  {
   "cell_type": "markdown",
   "id": "c34fa208-4a50-4777-bc26-9bdc1fb183b3",
   "metadata": {},
   "source": [
    "## pop(0)"
   ]
  },
  {
   "cell_type": "code",
   "execution_count": 65,
   "id": "a66fd005-1a3a-478d-a0b2-739b9c3432a9",
   "metadata": {},
   "outputs": [
    {
     "data": {
      "text/plain": [
       "1.6988754272460938e-06"
      ]
     },
     "execution_count": 65,
     "metadata": {},
     "output_type": "execute_result"
    }
   ],
   "source": [
    "sum = 0\n",
    "for _ in range(10000):\n",
    "    test = [1 for _ in range(10000)]\n",
    "    start = time.time()\n",
    "    test.pop(0)\n",
    "    end = time.time()\n",
    "    sum += end - start\n",
    "sum /= 10000\n",
    "sum"
   ]
  },
  {
   "cell_type": "code",
   "execution_count": 66,
   "id": "7e1084fd-6c8c-447f-ad6d-765aaaeb5af9",
   "metadata": {},
   "outputs": [
    {
     "data": {
      "text/plain": [
       "3.4354448318481445e-06"
      ]
     },
     "execution_count": 66,
     "metadata": {},
     "output_type": "execute_result"
    }
   ],
   "source": [
    "sum = 0\n",
    "for _ in range(10000):\n",
    "    test = [1 for _ in range(20000)]\n",
    "    start = time.time()\n",
    "    test.pop(0)\n",
    "    end = time.time()\n",
    "    sum += end - start\n",
    "sum /= 10000\n",
    "sum"
   ]
  },
  {
   "cell_type": "code",
   "execution_count": 67,
   "id": "3525a370-242a-4254-86a0-acfdad2d1d4f",
   "metadata": {},
   "outputs": [
    {
     "data": {
      "text/plain": [
       "5.669403076171875e-06"
      ]
     },
     "execution_count": 67,
     "metadata": {},
     "output_type": "execute_result"
    }
   ],
   "source": [
    "sum = 0\n",
    "for _ in range(10000):\n",
    "    test = [1 for _ in range(30000)]\n",
    "    start = time.time()\n",
    "    test.pop(0)\n",
    "    end = time.time()\n",
    "    sum += end - start\n",
    "sum /= 10000\n",
    "sum"
   ]
  },
  {
   "cell_type": "markdown",
   "id": "fce68117-313f-42ee-8b74-e56e368deafc",
   "metadata": {},
   "source": [
    "## append(1)"
   ]
  },
  {
   "cell_type": "code",
   "execution_count": 68,
   "id": "eb4d2841-f21c-4c45-85d3-865de2421867",
   "metadata": {},
   "outputs": [
    {
     "data": {
      "text/plain": [
       "2.0263195037841797e-07"
      ]
     },
     "execution_count": 68,
     "metadata": {},
     "output_type": "execute_result"
    }
   ],
   "source": [
    "sum = 0\n",
    "for _ in range(10000):\n",
    "    test = [1 for _ in range(10000)]\n",
    "    start = time.time()\n",
    "    test.append(1)\n",
    "    end = time.time()\n",
    "    sum += end - start\n",
    "sum /= 10000\n",
    "sum"
   ]
  },
  {
   "cell_type": "code",
   "execution_count": 69,
   "id": "8427eda8-e5d7-44ba-94f3-6692ac7ebca0",
   "metadata": {},
   "outputs": [
    {
     "data": {
      "text/plain": [
       "1.8131732940673827e-07"
      ]
     },
     "execution_count": 69,
     "metadata": {},
     "output_type": "execute_result"
    }
   ],
   "source": [
    "sum = 0\n",
    "for _ in range(10000):\n",
    "    test = [1 for _ in range(20000)]\n",
    "    start = time.time()\n",
    "    test.append(1)\n",
    "    end = time.time()\n",
    "    sum += end - start\n",
    "sum /= 10000\n",
    "sum"
   ]
  },
  {
   "cell_type": "code",
   "execution_count": 70,
   "id": "de3a3e77-0a20-461b-a760-c188aa9936c3",
   "metadata": {},
   "outputs": [
    {
     "data": {
      "text/plain": [
       "1.9998550415039062e-07"
      ]
     },
     "execution_count": 70,
     "metadata": {},
     "output_type": "execute_result"
    }
   ],
   "source": [
    "sum = 0\n",
    "for _ in range(10000):\n",
    "    test = [1 for _ in range(30000)]\n",
    "    start = time.time()\n",
    "    test.append(1)\n",
    "    end = time.time()\n",
    "    sum += end - start\n",
    "sum /= 10000\n",
    "sum"
   ]
  },
  {
   "cell_type": "markdown",
   "id": "15faac8a-73eb-434a-9134-fbd96e7a9184",
   "metadata": {},
   "source": [
    "## insert(0, 1)"
   ]
  },
  {
   "cell_type": "code",
   "execution_count": 71,
   "id": "936d9207-a18b-4de3-a96d-0d9cc6dc3188",
   "metadata": {},
   "outputs": [
    {
     "data": {
      "text/plain": [
       "2.449679374694824e-06"
      ]
     },
     "execution_count": 71,
     "metadata": {},
     "output_type": "execute_result"
    }
   ],
   "source": [
    "sum = 0\n",
    "for _ in range(10000):\n",
    "    test = [1 for _ in range(10000)]\n",
    "    start = time.time()\n",
    "    test.insert(0, 1)\n",
    "    end = time.time()\n",
    "    sum += end - start\n",
    "sum /= 10000\n",
    "sum"
   ]
  },
  {
   "cell_type": "code",
   "execution_count": 72,
   "id": "a377a499-dedf-4f81-9339-e164f6ca0d20",
   "metadata": {},
   "outputs": [
    {
     "data": {
      "text/plain": [
       "4.6596288681030275e-06"
      ]
     },
     "execution_count": 72,
     "metadata": {},
     "output_type": "execute_result"
    }
   ],
   "source": [
    "sum = 0\n",
    "for _ in range(10000):\n",
    "    test = [1 for _ in range(20000)]\n",
    "    start = time.time()\n",
    "    test.insert(0, 1)\n",
    "    end = time.time()\n",
    "    sum += end - start\n",
    "sum /= 10000\n",
    "sum"
   ]
  },
  {
   "cell_type": "code",
   "execution_count": 73,
   "id": "901f0fd2-9f81-4f3e-96f7-acd3b9b453a0",
   "metadata": {},
   "outputs": [
    {
     "data": {
      "text/plain": [
       "7.060599327087402e-06"
      ]
     },
     "execution_count": 73,
     "metadata": {},
     "output_type": "execute_result"
    }
   ],
   "source": [
    "sum = 0\n",
    "for _ in range(10000):\n",
    "    test = [1 for _ in range(30000)]\n",
    "    start = time.time()\n",
    "    test.insert(0, 1)\n",
    "    end = time.time()\n",
    "    sum += end - start\n",
    "sum /= 10000\n",
    "sum"
   ]
  },
  {
   "cell_type": "markdown",
   "id": "0706f431-22c4-4ebc-947c-5ff365f379f0",
   "metadata": {},
   "source": [
    "# Deques"
   ]
  },
  {
   "cell_type": "code",
   "execution_count": 74,
   "id": "f04ca1c9-d396-46cc-8e60-99878f05e309",
   "metadata": {},
   "outputs": [],
   "source": [
    "from collections import deque"
   ]
  },
  {
   "cell_type": "markdown",
   "id": "72106fdd-15bd-42d3-84d3-984d8a627459",
   "metadata": {},
   "source": [
    "## pop"
   ]
  },
  {
   "cell_type": "code",
   "execution_count": 75,
   "id": "ff8099e5-bab6-499e-9a0d-19f9633bdc97",
   "metadata": {},
   "outputs": [
    {
     "data": {
      "text/plain": [
       "2.2630691528320314e-07"
      ]
     },
     "execution_count": 75,
     "metadata": {},
     "output_type": "execute_result"
    }
   ],
   "source": [
    "sum = 0\n",
    "for _ in range(10000):\n",
    "    test = deque(range(10000))\n",
    "    start = time.time()\n",
    "    test.pop()\n",
    "    end = time.time()\n",
    "    sum += end - start\n",
    "sum /= 10000\n",
    "sum"
   ]
  },
  {
   "cell_type": "code",
   "execution_count": 76,
   "id": "83deae81-a7ce-4e49-9432-238590024c52",
   "metadata": {},
   "outputs": [
    {
     "data": {
      "text/plain": [
       "2.9850006103515625e-07"
      ]
     },
     "execution_count": 76,
     "metadata": {},
     "output_type": "execute_result"
    }
   ],
   "source": [
    "sum = 0\n",
    "for _ in range(10000):\n",
    "    test = deque(range(20000))\n",
    "    start = time.time()\n",
    "    test.pop()\n",
    "    end = time.time()\n",
    "    sum += end - start\n",
    "sum /= 10000\n",
    "sum"
   ]
  },
  {
   "cell_type": "code",
   "execution_count": 77,
   "id": "c685ea39-2c22-4188-9ad7-6da5ddc5f1c0",
   "metadata": {},
   "outputs": [
    {
     "data": {
      "text/plain": [
       "4.0123462677001955e-07"
      ]
     },
     "execution_count": 77,
     "metadata": {},
     "output_type": "execute_result"
    }
   ],
   "source": [
    "sum = 0\n",
    "for _ in range(10000):\n",
    "    test = deque(range(30000))\n",
    "    start = time.time()\n",
    "    test.pop()\n",
    "    end = time.time()\n",
    "    sum += end - start\n",
    "sum /= 10000\n",
    "sum"
   ]
  },
  {
   "cell_type": "markdown",
   "id": "d98f06f2-4655-4277-b6a9-eb6cf3ff5ec2",
   "metadata": {},
   "source": [
    "## popleft"
   ]
  },
  {
   "cell_type": "code",
   "execution_count": 78,
   "id": "ad30d207-5f7d-4aee-b651-d2f48be81460",
   "metadata": {},
   "outputs": [
    {
     "data": {
      "text/plain": [
       "3.7119388580322264e-07"
      ]
     },
     "execution_count": 78,
     "metadata": {},
     "output_type": "execute_result"
    }
   ],
   "source": [
    "sum = 0\n",
    "for _ in range(10000):\n",
    "    test = deque(range(10000))\n",
    "    start = time.time()\n",
    "    test.popleft()\n",
    "    end = time.time()\n",
    "    sum += end - start\n",
    "sum /= 10000\n",
    "sum"
   ]
  },
  {
   "cell_type": "code",
   "execution_count": 79,
   "id": "1fd78ba8-045c-4c30-924f-42ce5637fa90",
   "metadata": {},
   "outputs": [
    {
     "data": {
      "text/plain": [
       "3.372907638549805e-07"
      ]
     },
     "execution_count": 79,
     "metadata": {},
     "output_type": "execute_result"
    }
   ],
   "source": [
    "sum = 0\n",
    "for _ in range(10000):\n",
    "    test = deque(range(20000))\n",
    "    start = time.time()\n",
    "    test.popleft()\n",
    "    end = time.time()\n",
    "    sum += end - start\n",
    "sum /= 10000\n",
    "sum"
   ]
  },
  {
   "cell_type": "code",
   "execution_count": 80,
   "id": "a895ee5d-3575-4097-9bb6-a1d6da4e08ca",
   "metadata": {},
   "outputs": [
    {
     "data": {
      "text/plain": [
       "2.9697418212890626e-07"
      ]
     },
     "execution_count": 80,
     "metadata": {},
     "output_type": "execute_result"
    }
   ],
   "source": [
    "sum = 0\n",
    "for _ in range(10000):\n",
    "    test = deque(range(30000))\n",
    "    start = time.time()\n",
    "    test.popleft()\n",
    "    end = time.time()\n",
    "    sum += end - start\n",
    "sum /= 10000\n",
    "sum"
   ]
  },
  {
   "cell_type": "markdown",
   "id": "3252f38e-0383-4116-85b9-f032f12a34b8",
   "metadata": {},
   "source": [
    "## append(1)"
   ]
  },
  {
   "cell_type": "code",
   "execution_count": 81,
   "id": "dff44cee-37fa-4475-ab58-304dc45dcc51",
   "metadata": {},
   "outputs": [
    {
     "data": {
      "text/plain": [
       "2.5610923767089845e-07"
      ]
     },
     "execution_count": 81,
     "metadata": {},
     "output_type": "execute_result"
    }
   ],
   "source": [
    "sum = 0\n",
    "for _ in range(10000):\n",
    "    test = deque(range(10000))\n",
    "    start = time.time()\n",
    "    test.append(1)\n",
    "    end = time.time()\n",
    "    sum += end - start\n",
    "sum /= 10000\n",
    "sum"
   ]
  },
  {
   "cell_type": "code",
   "execution_count": 84,
   "id": "c9efe9bd-7916-49fd-82b8-db9f4dbf2c7c",
   "metadata": {},
   "outputs": [
    {
     "data": {
      "text/plain": [
       "2.1588802337646484e-07"
      ]
     },
     "execution_count": 84,
     "metadata": {},
     "output_type": "execute_result"
    }
   ],
   "source": [
    "sum = 0\n",
    "for _ in range(10000):\n",
    "    test = deque(range(20000))\n",
    "    start = time.time()\n",
    "    test.append(1)\n",
    "    end = time.time()\n",
    "    sum += end - start\n",
    "sum /= 10000\n",
    "sum"
   ]
  },
  {
   "cell_type": "code",
   "execution_count": 83,
   "id": "af25cdd3-e104-4a64-94eb-4cddb7a27bd5",
   "metadata": {},
   "outputs": [
    {
     "data": {
      "text/plain": [
       "2.4940967559814454e-07"
      ]
     },
     "execution_count": 83,
     "metadata": {},
     "output_type": "execute_result"
    }
   ],
   "source": [
    "sum = 0\n",
    "for _ in range(10000):\n",
    "    test = deque(range(30000))\n",
    "    start = time.time()\n",
    "    test.append(1)\n",
    "    end = time.time()\n",
    "    sum += end - start\n",
    "sum /= 10000\n",
    "sum"
   ]
  },
  {
   "cell_type": "markdown",
   "id": "3fdb64d9-6a6b-4c10-8b83-dbf0e45d410e",
   "metadata": {},
   "source": [
    "## appendleft(1)"
   ]
  },
  {
   "cell_type": "code",
   "execution_count": 85,
   "id": "aadcd867-a441-46db-a373-f6858d2a7c6d",
   "metadata": {},
   "outputs": [
    {
     "data": {
      "text/plain": [
       "2.9385089874267576e-07"
      ]
     },
     "execution_count": 85,
     "metadata": {},
     "output_type": "execute_result"
    }
   ],
   "source": [
    "sum = 0\n",
    "for _ in range(10000):\n",
    "    test = deque(range(10000))\n",
    "    start = time.time()\n",
    "    test.appendleft(1)\n",
    "    end = time.time()\n",
    "    sum += end - start\n",
    "sum /= 10000\n",
    "sum"
   ]
  },
  {
   "cell_type": "code",
   "execution_count": 86,
   "id": "1555e3ee-0fb8-43a7-a24b-bfd553032486",
   "metadata": {},
   "outputs": [
    {
     "data": {
      "text/plain": [
       "2.847194671630859e-07"
      ]
     },
     "execution_count": 86,
     "metadata": {},
     "output_type": "execute_result"
    }
   ],
   "source": [
    "sum = 0\n",
    "for _ in range(10000):\n",
    "    test = deque(range(20000))\n",
    "    start = time.time()\n",
    "    test.appendleft(1)\n",
    "    end = time.time()\n",
    "    sum += end - start\n",
    "sum /= 10000\n",
    "sum"
   ]
  },
  {
   "cell_type": "code",
   "execution_count": 87,
   "id": "a87c73b9-8507-45cb-8fc5-033dae2f9253",
   "metadata": {},
   "outputs": [
    {
     "data": {
      "text/plain": [
       "3.785848617553711e-07"
      ]
     },
     "execution_count": 87,
     "metadata": {},
     "output_type": "execute_result"
    }
   ],
   "source": [
    "sum = 0\n",
    "for _ in range(10000):\n",
    "    test = deque(range(30000))\n",
    "    start = time.time()\n",
    "    test.appendleft(1)\n",
    "    end = time.time()\n",
    "    sum += end - start\n",
    "sum /= 10000\n",
    "sum"
   ]
  },
  {
   "cell_type": "markdown",
   "id": "6519ae64-aadc-476a-8f0e-00c9a5704590",
   "metadata": {},
   "source": [
    "## deque[0]"
   ]
  },
  {
   "cell_type": "code",
   "execution_count": 88,
   "id": "99b99af6-4386-4848-b900-8f61ba627006",
   "metadata": {},
   "outputs": [
    {
     "data": {
      "text/plain": [
       "2.8934478759765625e-07"
      ]
     },
     "execution_count": 88,
     "metadata": {},
     "output_type": "execute_result"
    }
   ],
   "source": [
    "sum = 0\n",
    "for _ in range(10000):\n",
    "    test = deque(range(10000))\n",
    "    start = time.time()\n",
    "    search = test[0]\n",
    "    end = time.time()\n",
    "    sum += end - start\n",
    "sum /= 10000\n",
    "sum"
   ]
  },
  {
   "cell_type": "code",
   "execution_count": 89,
   "id": "eaf237dd-357f-400d-9b4c-13d29c62dc76",
   "metadata": {},
   "outputs": [
    {
     "data": {
      "text/plain": [
       "3.7119388580322264e-07"
      ]
     },
     "execution_count": 89,
     "metadata": {},
     "output_type": "execute_result"
    }
   ],
   "source": [
    "sum = 0\n",
    "for _ in range(10000):\n",
    "    test = deque(range(20000))\n",
    "    start = time.time()\n",
    "    search = test[0]\n",
    "    end = time.time()\n",
    "    sum += end - start\n",
    "sum /= 10000\n",
    "sum"
   ]
  },
  {
   "cell_type": "code",
   "execution_count": 90,
   "id": "5c0e5256-ea8b-461c-a5eb-0e2672836506",
   "metadata": {},
   "outputs": [
    {
     "data": {
      "text/plain": [
       "3.2360553741455077e-07"
      ]
     },
     "execution_count": 90,
     "metadata": {},
     "output_type": "execute_result"
    }
   ],
   "source": [
    "sum = 0\n",
    "for _ in range(10000):\n",
    "    test = deque(range(30000))\n",
    "    start = time.time()\n",
    "    search = test[0]\n",
    "    end = time.time()\n",
    "    sum += end - start\n",
    "sum /= 10000\n",
    "sum"
   ]
  },
  {
   "cell_type": "markdown",
   "id": "8f8a2f4e-4788-4e51-88bf-2150626d6c22",
   "metadata": {},
   "source": [
    "## deque[N-1]"
   ]
  },
  {
   "cell_type": "code",
   "execution_count": 91,
   "id": "7c5d7edb-3d9b-4868-839a-2f4015f10cab",
   "metadata": {},
   "outputs": [
    {
     "data": {
      "text/plain": [
       "3.523111343383789e-07"
      ]
     },
     "execution_count": 91,
     "metadata": {},
     "output_type": "execute_result"
    }
   ],
   "source": [
    "sum = 0\n",
    "for _ in range(10000):\n",
    "    test = deque(range(10000))\n",
    "    start = time.time()\n",
    "    search = test[9999]\n",
    "    end = time.time()\n",
    "    sum += end - start\n",
    "sum /= 10000\n",
    "sum"
   ]
  },
  {
   "cell_type": "code",
   "execution_count": 92,
   "id": "d024d6fd-1420-4204-8fa6-76613088d30b",
   "metadata": {},
   "outputs": [
    {
     "data": {
      "text/plain": [
       "4.802942276000976e-07"
      ]
     },
     "execution_count": 92,
     "metadata": {},
     "output_type": "execute_result"
    }
   ],
   "source": [
    "sum = 0\n",
    "for _ in range(10000):\n",
    "    test = deque(range(20000))\n",
    "    start = time.time()\n",
    "    search = test[19999]\n",
    "    end = time.time()\n",
    "    sum += end - start\n",
    "sum /= 10000\n",
    "sum"
   ]
  },
  {
   "cell_type": "code",
   "execution_count": 93,
   "id": "5f5e83d9-7e4f-460f-820c-5a2d32627884",
   "metadata": {},
   "outputs": [
    {
     "data": {
      "text/plain": [
       "4.1294097900390625e-07"
      ]
     },
     "execution_count": 93,
     "metadata": {},
     "output_type": "execute_result"
    }
   ],
   "source": [
    "sum = 0\n",
    "for _ in range(10000):\n",
    "    test = deque(range(30000))\n",
    "    start = time.time()\n",
    "    search = test[29999]\n",
    "    end = time.time()\n",
    "    sum += end - start\n",
    "sum /= 10000\n",
    "sum"
   ]
  },
  {
   "cell_type": "markdown",
   "id": "91356e37-3c9b-4775-9a54-820cd4eb810d",
   "metadata": {},
   "source": [
    "## deque[N/2]"
   ]
  },
  {
   "cell_type": "code",
   "execution_count": 95,
   "id": "d5d2b5f7-cace-458e-9ec1-efe8ffeb60c4",
   "metadata": {},
   "outputs": [
    {
     "data": {
      "text/plain": [
       "1.0262727737426758e-06"
      ]
     },
     "execution_count": 95,
     "metadata": {},
     "output_type": "execute_result"
    }
   ],
   "source": [
    "sum = 0\n",
    "for _ in range(10000):\n",
    "    test = deque(range(10000))\n",
    "    start = time.time()\n",
    "    search = test[5000]\n",
    "    end = time.time()\n",
    "    sum += end - start\n",
    "sum /= 10000\n",
    "sum"
   ]
  },
  {
   "cell_type": "code",
   "execution_count": 96,
   "id": "166f2b70-4386-4b32-93a2-e6cc10f4279d",
   "metadata": {},
   "outputs": [
    {
     "data": {
      "text/plain": [
       "1.67694091796875e-06"
      ]
     },
     "execution_count": 96,
     "metadata": {},
     "output_type": "execute_result"
    }
   ],
   "source": [
    "sum = 0\n",
    "for _ in range(10000):\n",
    "    test = deque(range(20000))\n",
    "    start = time.time()\n",
    "    search = test[10000]\n",
    "    end = time.time()\n",
    "    sum += end - start\n",
    "sum /= 10000\n",
    "sum"
   ]
  },
  {
   "cell_type": "code",
   "execution_count": 97,
   "id": "9c29f5de-b1cf-4d5c-99c9-69745df57322",
   "metadata": {},
   "outputs": [
    {
     "data": {
      "text/plain": [
       "2.3913860321044923e-06"
      ]
     },
     "execution_count": 97,
     "metadata": {},
     "output_type": "execute_result"
    }
   ],
   "source": [
    "sum = 0\n",
    "for _ in range(10000):\n",
    "    test = deque(range(30000))\n",
    "    start = time.time()\n",
    "    search = test[15000]\n",
    "    end = time.time()\n",
    "    sum += end - start\n",
    "sum /= 10000\n",
    "sum"
   ]
  },
  {
   "cell_type": "code",
   "execution_count": null,
   "id": "348aa248-6ec2-4512-9d7e-dff9833e3fb4",
   "metadata": {},
   "outputs": [],
   "source": []
  }
 ],
 "metadata": {
  "kernelspec": {
   "display_name": "Python 3 (ipykernel)",
   "language": "python",
   "name": "python3"
  },
  "language_info": {
   "codemirror_mode": {
    "name": "ipython",
    "version": 3
   },
   "file_extension": ".py",
   "mimetype": "text/x-python",
   "name": "python",
   "nbconvert_exporter": "python",
   "pygments_lexer": "ipython3",
   "version": "3.11.7"
  }
 },
 "nbformat": 4,
 "nbformat_minor": 5
}
